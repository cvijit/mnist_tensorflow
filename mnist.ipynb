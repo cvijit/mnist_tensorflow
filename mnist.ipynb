{
  "nbformat": 4,
  "nbformat_minor": 0,
  "metadata": {
    "colab": {
      "name": "mnist.ipynb",
      "provenance": [],
      "authorship_tag": "ABX9TyMD/a1a6xJDgfFVacJ40Y17",
      "include_colab_link": true
    },
    "kernelspec": {
      "name": "python3",
      "display_name": "Python 3"
    }
  },
  "cells": [
    {
      "cell_type": "markdown",
      "metadata": {
        "id": "view-in-github",
        "colab_type": "text"
      },
      "source": [
        "<a href=\"https://colab.research.google.com/github/cvijit/mnist_tensorflow/blob/main/mnist.ipynb\" target=\"_parent\"><img src=\"https://colab.research.google.com/assets/colab-badge.svg\" alt=\"Open In Colab\"/></a>"
      ]
    },
    {
      "cell_type": "code",
      "metadata": {
        "id": "OweT9ebhP_9Y"
      },
      "source": [
        "import tensorflow as tf"
      ],
      "execution_count": 1,
      "outputs": []
    },
    {
      "cell_type": "code",
      "metadata": {
        "id": "fL0c0ShhQBwv",
        "outputId": "198ad345-68e0-49fa-d638-9fcf24bacff2",
        "colab": {
          "base_uri": "https://localhost:8080/"
        }
      },
      "source": [
        "mnist = tf.keras.datasets.mnist #28*28 images of hand written digits 0-9\n",
        "(x_train, y_train), (x_test, y_test) = mnist.load_data()\n",
        "\n",
        "#normalise the data\n",
        "\n",
        "x_train = tf.keras.utils.normalize(x_train, axis=1)\n",
        "x_test = tf.keras.utils.normalize(x_test, axis=1)\n",
        "\n",
        "#try with and without normalising the data and check the end results #comment the above two lines\n",
        "\n",
        "#build the model\n",
        "#deep neural network\n",
        "\n",
        "model = tf.keras.models.Sequential()\n",
        "model.add(tf.keras.layers.Flatten())\n",
        "#1st hidden layer\n",
        "model.add(tf.keras.layers.Dense(100, activation=tf.nn.relu))\n",
        "#2nd hidden layer\n",
        "model.add(tf.keras.layers.Dense(100, activation=tf.nn.relu))\n",
        "#output layer\n",
        "model.add(tf.keras.layers.Dense(10, activation=tf.nn.softmax))\n",
        "\n",
        "model.compile(optimizer='adam', loss='sparse_categorical_crossentropy',metrics=['accuracy'])\n",
        "model.fit(x_train,y_train, epochs=5)\n",
        "\n",
        "#Did the model fit or overfit?"
      ],
      "execution_count": 13,
      "outputs": [
        {
          "output_type": "stream",
          "text": [
            "Epoch 1/5\n",
            "1875/1875 [==============================] - 4s 2ms/step - loss: 0.2829 - accuracy: 0.9178\n",
            "Epoch 2/5\n",
            "1875/1875 [==============================] - 4s 2ms/step - loss: 0.1192 - accuracy: 0.9640\n",
            "Epoch 3/5\n",
            "1875/1875 [==============================] - 4s 2ms/step - loss: 0.0806 - accuracy: 0.9747\n",
            "Epoch 4/5\n",
            "1875/1875 [==============================] - 4s 2ms/step - loss: 0.0587 - accuracy: 0.9813\n",
            "Epoch 5/5\n",
            "1875/1875 [==============================] - 4s 2ms/step - loss: 0.0458 - accuracy: 0.9851\n"
          ],
          "name": "stdout"
        },
        {
          "output_type": "execute_result",
          "data": {
            "text/plain": [
              "<tensorflow.python.keras.callbacks.History at 0x7f74852406a0>"
            ]
          },
          "metadata": {
            "tags": []
          },
          "execution_count": 13
        }
      ]
    },
    {
      "cell_type": "code",
      "metadata": {
        "id": "50kMZMY1XN53",
        "outputId": "51ea121c-cc9e-4802-edc8-660a5548ca95",
        "colab": {
          "base_uri": "https://localhost:8080/"
        }
      },
      "source": [
        "val_loss, val_acc = model.evaluate(x_test, y_test)\n",
        "print(val_loss,val_acc)"
      ],
      "execution_count": 14,
      "outputs": [
        {
          "output_type": "stream",
          "text": [
            "313/313 [==============================] - 0s 1ms/step - loss: 0.1068 - accuracy: 0.9674\n",
            "0.10682530701160431 0.9674000144004822\n"
          ],
          "name": "stdout"
        }
      ]
    },
    {
      "cell_type": "code",
      "metadata": {
        "id": "Hcn5DAZVQWTi"
      },
      "source": [
        "import matplotlib.pyplot as plt"
      ],
      "execution_count": 8,
      "outputs": []
    },
    {
      "cell_type": "code",
      "metadata": {
        "id": "XPxIGRYaQiSN",
        "outputId": "a48b5305-65f8-4420-9b95-8888856f806c",
        "colab": {
          "base_uri": "https://localhost:8080/",
          "height": 265
        }
      },
      "source": [
        "plt.imshow(x_train[0], cmap=plt.cm.binary)\n",
        "plt.show()"
      ],
      "execution_count": 9,
      "outputs": [
        {
          "output_type": "display_data",
          "data": {
            "image/png": "[encoded data removed]",
            "text/plain": [
              "<Figure size 432x288 with 1 Axes>"
            ]
          },
          "metadata": {
            "tags": [],
            "needs_background": "light"
          }
        }
      ]
    },
    {
      "cell_type": "code",
      "metadata": {
        "id": "QhixrK7LYLnb",
        "outputId": "5bf8173b-ee90-4c08-abc4-fbbc6efedbbe",
        "colab": {
          "base_uri": "https://localhost:8080/",
          "height": 35
        }
      },
      "source": [
        "import os\n",
        "os.getcwd()"
      ],
      "execution_count": 18,
      "outputs": [
        {
          "output_type": "execute_result",
          "data": {
            "application/vnd.google.colaboratory.intrinsic+json": {
              "type": "string"
            },
            "text/plain": [
              "'/content'"
            ]
          },
          "metadata": {
            "tags": []
          },
          "execution_count": 18
        }
      ]
    },
    {
      "cell_type": "code",
      "metadata": {
        "id": "JS3I4WSRQkMy",
        "outputId": "2755fab6-9ec3-45e1-c2ed-ca656c9a21ef",
        "colab": {
          "base_uri": "https://localhost:8080/"
        }
      },
      "source": [
        "#saving model\n",
        "\n",
        "model.save('/content/first_nn.model')"
      ],
      "execution_count": 19,
      "outputs": [
        {
          "output_type": "stream",
          "text": [
            "INFO:tensorflow:Assets written to: /content/first_nn.model/assets\n"
          ],
          "name": "stdout"
        }
      ]
    },
    {
      "cell_type": "code",
      "metadata": {
        "id": "SLq6hwyEXw3g"
      },
      "source": [
        "new_model = tf.keras.models.load_model('first_nn.model')"
      ],
      "execution_count": 20,
      "outputs": []
    },
    {
      "cell_type": "code",
      "metadata": {
        "id": "zwP0bTHyXw66"
      },
      "source": [
        "predictions = new_model.predict([x_test])"
      ],
      "execution_count": 21,
      "outputs": []
    },
    {
      "cell_type": "code",
      "metadata": {
        "id": "ZVrkxXvOYdV8",
        "outputId": "e817ab57-904d-4920-ca6f-9eb62d20df5f",
        "colab": {
          "base_uri": "https://localhost:8080/"
        }
      },
      "source": [
        "print(predictions)\n",
        "\n",
        "#predict always takes a list \n",
        "#it displays the one hot arrays i.e. probability distributions\n"
      ],
      "execution_count": 22,
      "outputs": [
        {
          "output_type": "stream",
          "text": [
            "[[1.4202987e-09 2.7402729e-09 7.8723401e-09 ... 9.9999964e-01\n",
            "  1.3550149e-10 5.1490904e-08]\n",
            " [2.0054571e-08 6.4949098e-05 9.9992085e-01 ... 5.7982334e-09\n",
            "  1.4298819e-09 9.9253704e-12]\n",
            " [8.1447901e-08 9.9864382e-01 4.6859013e-06 ... 1.0919817e-03\n",
            "  2.1613679e-04 2.7735035e-05]\n",
            " ...\n",
            " [4.1530370e-09 7.1354911e-08 6.6277304e-09 ... 2.6660449e-05\n",
            "  4.3461469e-06 2.3530100e-03]\n",
            " [4.1664081e-10 1.1252628e-09 7.5524920e-11 ... 6.7135661e-09\n",
            "  1.2568962e-04 2.7089003e-10]\n",
            " [2.6721077e-06 5.7667343e-08 7.1309398e-07 ... 6.6616983e-11\n",
            "  4.5139295e-08 3.6110368e-08]]\n"
          ],
          "name": "stdout"
        }
      ]
    },
    {
      "cell_type": "code",
      "metadata": {
        "id": "B3qq-snXYhfB",
        "outputId": "3820d808-b994-4c8f-e02a-eb1bbbbdebf6",
        "colab": {
          "base_uri": "https://localhost:8080/"
        }
      },
      "source": [
        "#using np to perfrom argmax #easier than tf\n",
        "import numpy as np\n",
        "print(np.argmax(predictions[3]))"
      ],
      "execution_count": 33,
      "outputs": [
        {
          "output_type": "stream",
          "text": [
            "0\n"
          ],
          "name": "stdout"
        }
      ]
    },
    {
      "cell_type": "code",
      "metadata": {
        "id": "43u2WIfXY-PS",
        "outputId": "31095a3c-bff8-4300-928a-2b6ce50cc223",
        "colab": {
          "base_uri": "https://localhost:8080/",
          "height": 265
        }
      },
      "source": [
        "plt.imshow(x_test[3])\n",
        "plt.show()"
      ],
      "execution_count": 34,
      "outputs": [
        {
          "output_type": "display_data",
          "data": {
            "image/png": "[encoded data removed]",
            "text/plain": [
              "<Figure size 432x288 with 1 Axes>"
            ]
          },
          "metadata": {
            "tags": [],
            "needs_background": "light"
          }
        }
      ]
    },
    {
      "cell_type": "code",
      "metadata": {
        "id": "7thUciG9ZIHM"
      },
      "source": [
        ""
      ],
      "execution_count": null,
      "outputs": []
    }
  ]
}